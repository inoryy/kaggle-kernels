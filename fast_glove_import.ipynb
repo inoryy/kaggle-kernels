{
 "cells": [
  {
   "cell_type": "markdown",
   "metadata": {
    "_cell_guid": "3219d13d-2142-4cda-ae9a-6676fde7b89b",
    "_uuid": "2d3b577fef00d047057cbf049b191771ce0c0a8f",
    "collapsed": true
   },
   "source": [
    "# Fast GloVe data import (multiprocessing)\n",
    "\n",
    "While trying to improve [the great LSTM baseline kernel](https://www.kaggle.com/jhoward/improved-lstm-baseline-glove-dropout-lb-0-048) by Jeremy Howard, I've noticed that a large chunk of my script exec time was spent on reading GloVe embeddings data into memory, especially when using the 840B 300d version.   \n",
    "Thankfully, this problem is quite easy to solve with Python's `multiprocessing` module. "
   ]
  },
  {
   "cell_type": "code",
   "execution_count": 1,
   "metadata": {
    "_cell_guid": "097c2aec-cb26-4d7e-a4a7-264c55382778",
    "_uuid": "c398ccd62d3c3b4cf388ab4bbd936b32b961f4fc",
    "collapsed": true
   },
   "outputs": [],
   "source": [
    "import numpy as np\n",
    "from multiprocessing import Pool\n",
    "\n",
    "num_cpu = 4\n",
    "embed_size = 300\n",
    "glove_file_path = '../input/glove840b300dtxt/glove.840B.300d.txt'"
   ]
  },
  {
   "cell_type": "code",
   "execution_count": 2,
   "metadata": {
    "_cell_guid": "901a87dc-a4aa-4605-9ef5-6f54d520c881",
    "_uuid": "ac43d40a4c4d91ca90f37adce41a55b2c937e59f",
    "collapsed": true
   },
   "outputs": [],
   "source": [
    "def get_coefs(row):\n",
    "    row = row.strip().split()\n",
    "    # can't use row[0], row[1:] split because 840B contains multi-part words \n",
    "    word, arr = \" \".join(row[:-embed_size]), row[-embed_size:]\n",
    "    return word, np.asarray(arr, dtype='float32')"
   ]
  },
  {
   "cell_type": "code",
   "execution_count": 3,
   "metadata": {
    "_cell_guid": "0bc94548-710a-425a-836e-33631dbe83b0",
    "_uuid": "3d1a4f99aae273d40a5c4a9f58e56a3056f42fcb",
    "collapsed": true
   },
   "outputs": [],
   "source": [
    "def get_glove():\n",
    "    return dict(get_coefs(row) for row in open(glove_file_path))"
   ]
  },
  {
   "cell_type": "code",
   "execution_count": 4,
   "metadata": {
    "_cell_guid": "35546a3a-5c46-4e5a-ab17-e43afa131231",
    "_uuid": "c6787b82ad4f9a9d42a86d9ba7c378e447649df4",
    "collapsed": true
   },
   "outputs": [],
   "source": [
    "def get_glove_fast():\n",
    "    pool = Pool(num_cpu)\n",
    "    with open(glove_file_path) as glove_file:\n",
    "        return dict(pool.map(get_coefs, glove_file, num_cpu))"
   ]
  },
  {
   "cell_type": "code",
   "execution_count": 5,
   "metadata": {
    "_cell_guid": "b178f7f0-6e10-4ced-9276-ca4ddf3de401",
    "_uuid": "67c5717df90fde1206c4d848d025158a5c2579cc"
   },
   "outputs": [
    {
     "name": "stdout",
     "output_type": "stream",
     "text": [
      "CPU times: user 2min 46s, sys: 5.38 s, total: 2min 51s\n",
      "Wall time: 2min 50s\n"
     ]
    }
   ],
   "source": [
    "# Time for sequential data import\n",
    "%time glove1 = get_glove()"
   ]
  },
  {
   "cell_type": "code",
   "execution_count": 6,
   "metadata": {
    "_cell_guid": "b19d7f54-f9fb-4890-a51e-1b59d1a677fa",
    "_uuid": "794a24bdfa040c7c3868e451055b16bf5ce73658",
    "collapsed": true
   },
   "outputs": [
    {
     "name": "stdout",
     "output_type": "stream",
     "text": [
      "CPU times: user 46.4 s, sys: 22.8 s, total: 1min 9s\n",
      "Wall time: 1min 19s\n"
     ]
    }
   ],
   "source": [
    "# Time for multiprocessing data import\n",
    "%time glove2 = get_glove_fast()"
   ]
  },
  {
   "cell_type": "code",
   "execution_count": 7,
   "metadata": {
    "_cell_guid": "79d96a0f-848c-4136-8919-c3fac47ea1e7",
    "_uuid": "ef336d3fa9a30e0a296dc5ae50069d026109dbbe",
    "collapsed": true
   },
   "outputs": [],
   "source": [
    "assert len(glove1) == len(glove2)"
   ]
  }
 ],
 "metadata": {
  "kernelspec": {
   "display_name": "Python 3",
   "language": "python",
   "name": "python3"
  },
  "language_info": {
   "codemirror_mode": {
    "name": "ipython",
    "version": 3
   },
   "file_extension": ".py",
   "mimetype": "text/x-python",
   "name": "python",
   "nbconvert_exporter": "python",
   "pygments_lexer": "ipython3",
   "version": "3.6.3"
  }
 },
 "nbformat": 4,
 "nbformat_minor": 1
}
